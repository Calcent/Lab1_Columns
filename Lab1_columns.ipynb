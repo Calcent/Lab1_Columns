{
  "metadata": {
    "kernelspec": {
      "name": "python",
      "display_name": "Python (Pyodide)",
      "language": "python"
    },
    "language_info": {
      "codemirror_mode": {
        "name": "python",
        "version": 3
      },
      "file_extension": ".py",
      "mimetype": "text/x-python",
      "name": "python",
      "nbconvert_exporter": "python",
      "pygments_lexer": "ipython3",
      "version": "3.8"
    }
  },
  "nbformat_minor": 5,
  "nbformat": 4,
  "cells": [
    {
      "id": "9a90b57b-c848-4558-a022-c3e1ab834732",
      "cell_type": "markdown",
      "source": "My name is isaac and I will be creating a custom dataset with multiple data types using the pandas DataFrames and different data structures.",
      "metadata": {}
    },
    {
      "id": "28e487b8-2f05-496d-8b98-3ff7d87af0a0",
      "cell_type": "code",
      "source": "# Import libraries\nimport pandas as pd\nimport numpy as np\nimport random\nfrom datetime import datetime, timedelta",
      "metadata": {
        "trusted": true
      },
      "outputs": [],
      "execution_count": 1
    },
    {
      "id": "b3d9db87-f24d-48e1-a48d-208bf3a4e9f6",
      "cell_type": "markdown",
      "source": "First Ill set a random seed for reproducibility",
      "metadata": {}
    },
    {
      "id": "ef20b453-b7a7-4806-b93b-77e37f2a3a71",
      "cell_type": "code",
      "source": "random.seed(42)",
      "metadata": {
        "trusted": true
      },
      "outputs": [],
      "execution_count": 2
    },
    {
      "id": "7a3b65c3-a93e-485b-8a5b-031a4469acb1",
      "cell_type": "markdown",
      "source": "Then Ill generate the data",
      "metadata": {}
    },
    {
      "id": "325ebfe9-a9bc-4a80-9768-9656fd8216b5",
      "cell_type": "code",
      "source": "#generate data\nnum_rows = 50\n\n#integer columns\nstudent_ids = [i for i in range(1000, 1000 + num_rows)]\n\n#float column (between 0 and 100)\nscores = [round(random.uniform(50,100), 2) for _ in range(num_rows)]\n\n#string column (Major)\nmajors = random.choices(\n    ['Computer Science', 'Mathematics', 'Physics', 'Engineering', 'Biology'], \n    k=num_rows\n)\n\n#date column (Random graduation year between 2024–2030)\ngraduation_years = [random.randint(2024, 2030) for _ in range(num_rows)]\n\n#boolean column (Pass/Fail)\npass_fail = [score >= 60 for score in scores]\n\n#combine everything into a dictionary\ndata = {\n    'Student_ID': student_ids,\n    'Score': scores,\n    'Major': majors,\n    'Graduation_Year': graduation_years,\n    'Pass_Fail': pass_fail\n}",
      "metadata": {
        "trusted": true
      },
      "outputs": [],
      "execution_count": 9
    },
    {
      "id": "9996d85d-f81a-4061-a7a3-773bbfcde7d7",
      "cell_type": "markdown",
      "source": "Then we will convert to a pandas dataframe",
      "metadata": {}
    },
    {
      "id": "313e163f-f940-43fa-95df-0ba0aeb0a072",
      "cell_type": "code",
      "source": "df = pd.DataFrame(data)",
      "metadata": {
        "trusted": true
      },
      "outputs": [
        {
          "execution_count": 10,
          "output_type": "execute_result",
          "data": {
            "text/plain": "   Student_ID  Score             Major  Graduation_Year  Pass_Fail\n0        1000  61.97  Computer Science             2030       True\n1        1001  62.04       Engineering             2025       True\n2        1002  78.37       Engineering             2024       True\n3        1003  53.94  Computer Science             2028      False\n4        1004  86.60       Engineering             2024       True",
            "text/html": "<div>\n<style scoped>\n    .dataframe tbody tr th:only-of-type {\n        vertical-align: middle;\n    }\n\n    .dataframe tbody tr th {\n        vertical-align: top;\n    }\n\n    .dataframe thead th {\n        text-align: right;\n    }\n</style>\n<table border=\"1\" class=\"dataframe\">\n  <thead>\n    <tr style=\"text-align: right;\">\n      <th></th>\n      <th>Student_ID</th>\n      <th>Score</th>\n      <th>Major</th>\n      <th>Graduation_Year</th>\n      <th>Pass_Fail</th>\n    </tr>\n  </thead>\n  <tbody>\n    <tr>\n      <th>0</th>\n      <td>1000</td>\n      <td>61.97</td>\n      <td>Computer Science</td>\n      <td>2030</td>\n      <td>True</td>\n    </tr>\n    <tr>\n      <th>1</th>\n      <td>1001</td>\n      <td>62.04</td>\n      <td>Engineering</td>\n      <td>2025</td>\n      <td>True</td>\n    </tr>\n    <tr>\n      <th>2</th>\n      <td>1002</td>\n      <td>78.37</td>\n      <td>Engineering</td>\n      <td>2024</td>\n      <td>True</td>\n    </tr>\n    <tr>\n      <th>3</th>\n      <td>1003</td>\n      <td>53.94</td>\n      <td>Computer Science</td>\n      <td>2028</td>\n      <td>False</td>\n    </tr>\n    <tr>\n      <th>4</th>\n      <td>1004</td>\n      <td>86.60</td>\n      <td>Engineering</td>\n      <td>2024</td>\n      <td>True</td>\n    </tr>\n  </tbody>\n</table>\n</div>"
          },
          "metadata": {}
        }
      ],
      "execution_count": 10
    },
    {
      "id": "ac1049b1-9c65-4d10-b308-aa7d0dac62b3",
      "cell_type": "markdown",
      "source": "I will now display the first and last 5 rows of the DataFrame",
      "metadata": {}
    },
    {
      "id": "ab9f564b-5d51-4295-b72a-3a683c933584",
      "cell_type": "code",
      "source": "print(\"First 5 Rows\")\ndisplay(df.head())\nprint(\"\\nLast 5 Rows\")\ndisplay(df.tail())",
      "metadata": {
        "trusted": true
      },
      "outputs": [
        {
          "name": "stdout",
          "output_type": "stream",
          "text": "First 5 Rows\n"
        },
        {
          "output_type": "display_data",
          "data": {
            "text/plain": "   Student_ID  Score             Major  Graduation_Year  Pass_Fail\n0        1000  61.97  Computer Science             2030       True\n1        1001  62.04       Engineering             2025       True\n2        1002  78.37       Engineering             2024       True\n3        1003  53.94  Computer Science             2028      False\n4        1004  86.60       Engineering             2024       True",
            "text/html": "<div>\n<style scoped>\n    .dataframe tbody tr th:only-of-type {\n        vertical-align: middle;\n    }\n\n    .dataframe tbody tr th {\n        vertical-align: top;\n    }\n\n    .dataframe thead th {\n        text-align: right;\n    }\n</style>\n<table border=\"1\" class=\"dataframe\">\n  <thead>\n    <tr style=\"text-align: right;\">\n      <th></th>\n      <th>Student_ID</th>\n      <th>Score</th>\n      <th>Major</th>\n      <th>Graduation_Year</th>\n      <th>Pass_Fail</th>\n    </tr>\n  </thead>\n  <tbody>\n    <tr>\n      <th>0</th>\n      <td>1000</td>\n      <td>61.97</td>\n      <td>Computer Science</td>\n      <td>2030</td>\n      <td>True</td>\n    </tr>\n    <tr>\n      <th>1</th>\n      <td>1001</td>\n      <td>62.04</td>\n      <td>Engineering</td>\n      <td>2025</td>\n      <td>True</td>\n    </tr>\n    <tr>\n      <th>2</th>\n      <td>1002</td>\n      <td>78.37</td>\n      <td>Engineering</td>\n      <td>2024</td>\n      <td>True</td>\n    </tr>\n    <tr>\n      <th>3</th>\n      <td>1003</td>\n      <td>53.94</td>\n      <td>Computer Science</td>\n      <td>2028</td>\n      <td>False</td>\n    </tr>\n    <tr>\n      <th>4</th>\n      <td>1004</td>\n      <td>86.60</td>\n      <td>Engineering</td>\n      <td>2024</td>\n      <td>True</td>\n    </tr>\n  </tbody>\n</table>\n</div>"
          },
          "metadata": {}
        },
        {
          "name": "stdout",
          "output_type": "stream",
          "text": "\nLast 5 Rows\n"
        },
        {
          "output_type": "display_data",
          "data": {
            "text/plain": "    Student_ID  Score             Major  Graduation_Year  Pass_Fail\n45        1045  54.72           Physics             2028      False\n46        1046  82.95           Biology             2025       True\n47        1047  67.71           Physics             2028       True\n48        1048  70.56  Computer Science             2026       True\n49        1049  93.19           Physics             2025       True",
            "text/html": "<div>\n<style scoped>\n    .dataframe tbody tr th:only-of-type {\n        vertical-align: middle;\n    }\n\n    .dataframe tbody tr th {\n        vertical-align: top;\n    }\n\n    .dataframe thead th {\n        text-align: right;\n    }\n</style>\n<table border=\"1\" class=\"dataframe\">\n  <thead>\n    <tr style=\"text-align: right;\">\n      <th></th>\n      <th>Student_ID</th>\n      <th>Score</th>\n      <th>Major</th>\n      <th>Graduation_Year</th>\n      <th>Pass_Fail</th>\n    </tr>\n  </thead>\n  <tbody>\n    <tr>\n      <th>45</th>\n      <td>1045</td>\n      <td>54.72</td>\n      <td>Physics</td>\n      <td>2028</td>\n      <td>False</td>\n    </tr>\n    <tr>\n      <th>46</th>\n      <td>1046</td>\n      <td>82.95</td>\n      <td>Biology</td>\n      <td>2025</td>\n      <td>True</td>\n    </tr>\n    <tr>\n      <th>47</th>\n      <td>1047</td>\n      <td>67.71</td>\n      <td>Physics</td>\n      <td>2028</td>\n      <td>True</td>\n    </tr>\n    <tr>\n      <th>48</th>\n      <td>1048</td>\n      <td>70.56</td>\n      <td>Computer Science</td>\n      <td>2026</td>\n      <td>True</td>\n    </tr>\n    <tr>\n      <th>49</th>\n      <td>1049</td>\n      <td>93.19</td>\n      <td>Physics</td>\n      <td>2025</td>\n      <td>True</td>\n    </tr>\n  </tbody>\n</table>\n</div>"
          },
          "metadata": {}
        }
      ],
      "execution_count": 16
    },
    {
      "id": "4add0f74-bfed-4056-9a1b-e3d24f6cb803",
      "cell_type": "markdown",
      "source": "Then we will show column names and data types",
      "metadata": {}
    },
    {
      "id": "4a323dab-4388-4187-9919-152b8b2755d9",
      "cell_type": "code",
      "source": "print(\"Column Names and Data Types\")\nprint(df.dtypes)",
      "metadata": {
        "trusted": true
      },
      "outputs": [
        {
          "name": "stdout",
          "output_type": "stream",
          "text": "Column Names and Data Types\nStudent_ID           int64\nScore              float64\nMajor               object\nGraduation_Year      int64\nPass_Fail             bool\ndtype: object\n"
        }
      ],
      "execution_count": 17
    },
    {
      "id": "01d85da5-a8ad-4277-b807-877c6094668b",
      "cell_type": "markdown",
      "source": "The the generation of descriptive statistics using describ() for numeric columns",
      "metadata": {}
    },
    {
      "id": "222b5c58-b320-4160-b31e-2a0e7df89665",
      "cell_type": "code",
      "source": "print(\"Descriptive Statistics\")\ndisplay(df.describe())",
      "metadata": {
        "trusted": true
      },
      "outputs": [
        {
          "name": "stdout",
          "output_type": "stream",
          "text": "Descriptive Statistics\n"
        },
        {
          "output_type": "display_data",
          "data": {
            "text/plain": "       Student_ID      Score  Graduation_Year\ncount    50.00000  50.000000        50.000000\nmean   1024.50000  74.246600      2026.660000\nstd      14.57738  14.342672         1.901771\nmin    1000.00000  50.360000      2024.000000\n25%    1012.25000  62.212500      2025.000000\n50%    1024.50000  76.045000      2027.000000\n75%    1036.75000  85.165000      2028.000000\nmax    1049.00000  98.900000      2030.000000",
            "text/html": "<div>\n<style scoped>\n    .dataframe tbody tr th:only-of-type {\n        vertical-align: middle;\n    }\n\n    .dataframe tbody tr th {\n        vertical-align: top;\n    }\n\n    .dataframe thead th {\n        text-align: right;\n    }\n</style>\n<table border=\"1\" class=\"dataframe\">\n  <thead>\n    <tr style=\"text-align: right;\">\n      <th></th>\n      <th>Student_ID</th>\n      <th>Score</th>\n      <th>Graduation_Year</th>\n    </tr>\n  </thead>\n  <tbody>\n    <tr>\n      <th>count</th>\n      <td>50.00000</td>\n      <td>50.000000</td>\n      <td>50.000000</td>\n    </tr>\n    <tr>\n      <th>mean</th>\n      <td>1024.50000</td>\n      <td>74.246600</td>\n      <td>2026.660000</td>\n    </tr>\n    <tr>\n      <th>std</th>\n      <td>14.57738</td>\n      <td>14.342672</td>\n      <td>1.901771</td>\n    </tr>\n    <tr>\n      <th>min</th>\n      <td>1000.00000</td>\n      <td>50.360000</td>\n      <td>2024.000000</td>\n    </tr>\n    <tr>\n      <th>25%</th>\n      <td>1012.25000</td>\n      <td>62.212500</td>\n      <td>2025.000000</td>\n    </tr>\n    <tr>\n      <th>50%</th>\n      <td>1024.50000</td>\n      <td>76.045000</td>\n      <td>2027.000000</td>\n    </tr>\n    <tr>\n      <th>75%</th>\n      <td>1036.75000</td>\n      <td>85.165000</td>\n      <td>2028.000000</td>\n    </tr>\n    <tr>\n      <th>max</th>\n      <td>1049.00000</td>\n      <td>98.900000</td>\n      <td>2030.000000</td>\n    </tr>\n  </tbody>\n</table>\n</div>"
          },
          "metadata": {}
        }
      ],
      "execution_count": 18
    },
    {
      "id": "7f0c111e-228d-4e78-8ce7-d01cbcfb409c",
      "cell_type": "markdown",
      "source": "And finally we will find the number of unique values in a categorical column",
      "metadata": {}
    },
    {
      "id": "087b2701-1a61-49d2-8e2c-4d9f0ad346cb",
      "cell_type": "code",
      "source": "print(\"Number of Unique Values in 'Major' Column\")\nprint(df['Major'].nunique())",
      "metadata": {
        "trusted": true
      },
      "outputs": [
        {
          "name": "stdout",
          "output_type": "stream",
          "text": "Number of Unique Values in 'Major' Column\n5\n"
        }
      ],
      "execution_count": 19
    },
    {
      "id": "23b228ab-7124-4bea-9ff0-80b13ebff05a",
      "cell_type": "markdown",
      "source": "Moving on to step 4 of the assignment the Column Challenge ooooh",
      "metadata": {}
    },
    {
      "id": "a0c2ca08-f53d-474f-95f4-dd243189dff5",
      "cell_type": "code",
      "source": "#function to convert numeric score to letter grade\ndef get_letter_grade(score):\n    if score >= 90:\n        return 'A'\n    elif score >= 80:\n        return 'B'\n    elif score >= 70:\n        return 'C'\n    elif score >= 60:\n        return 'D'\n    else:\n        return 'F'\n\n#create a new computed column\ndf['Letter_Grade'] = df['Score'].apply(get_letter_grade)\n\n#display the first few rows\nprint(\"DataFrame with New Column\")\ndisplay(df.head())\n\n#save the new DataFrame to a CSV file\noutput_filename = \"student_dataset.csv\"\ndf.to_csv(output_filename, index=False)\n\nprint(f\"\\nDataset successfully saved as '{output_filename}' with {len(df.columns)} columns.\")",
      "metadata": {
        "trusted": true
      },
      "outputs": [
        {
          "name": "stdout",
          "output_type": "stream",
          "text": "DataFrame with New Column\n"
        },
        {
          "output_type": "display_data",
          "data": {
            "text/plain": "   Student_ID  Score             Major  Graduation_Year  Pass_Fail  \\\n0        1000  61.97  Computer Science             2030       True   \n1        1001  62.04       Engineering             2025       True   \n2        1002  78.37       Engineering             2024       True   \n3        1003  53.94  Computer Science             2028      False   \n4        1004  86.60       Engineering             2024       True   \n\n  Letter_Grade  \n0            D  \n1            D  \n2            C  \n3            F  \n4            B  ",
            "text/html": "<div>\n<style scoped>\n    .dataframe tbody tr th:only-of-type {\n        vertical-align: middle;\n    }\n\n    .dataframe tbody tr th {\n        vertical-align: top;\n    }\n\n    .dataframe thead th {\n        text-align: right;\n    }\n</style>\n<table border=\"1\" class=\"dataframe\">\n  <thead>\n    <tr style=\"text-align: right;\">\n      <th></th>\n      <th>Student_ID</th>\n      <th>Score</th>\n      <th>Major</th>\n      <th>Graduation_Year</th>\n      <th>Pass_Fail</th>\n      <th>Letter_Grade</th>\n    </tr>\n  </thead>\n  <tbody>\n    <tr>\n      <th>0</th>\n      <td>1000</td>\n      <td>61.97</td>\n      <td>Computer Science</td>\n      <td>2030</td>\n      <td>True</td>\n      <td>D</td>\n    </tr>\n    <tr>\n      <th>1</th>\n      <td>1001</td>\n      <td>62.04</td>\n      <td>Engineering</td>\n      <td>2025</td>\n      <td>True</td>\n      <td>D</td>\n    </tr>\n    <tr>\n      <th>2</th>\n      <td>1002</td>\n      <td>78.37</td>\n      <td>Engineering</td>\n      <td>2024</td>\n      <td>True</td>\n      <td>C</td>\n    </tr>\n    <tr>\n      <th>3</th>\n      <td>1003</td>\n      <td>53.94</td>\n      <td>Computer Science</td>\n      <td>2028</td>\n      <td>False</td>\n      <td>F</td>\n    </tr>\n    <tr>\n      <th>4</th>\n      <td>1004</td>\n      <td>86.60</td>\n      <td>Engineering</td>\n      <td>2024</td>\n      <td>True</td>\n      <td>B</td>\n    </tr>\n  </tbody>\n</table>\n</div>"
          },
          "metadata": {}
        },
        {
          "name": "stdout",
          "output_type": "stream",
          "text": "\nDataset successfully saved as 'student_dataset.csv' with 6 columns.\n"
        }
      ],
      "execution_count": 21
    },
    {
      "id": "6fd7b69c-c986-449c-8969-7879639a3605",
      "cell_type": "code",
      "source": "",
      "metadata": {
        "trusted": true
      },
      "outputs": [],
      "execution_count": null
    }
  ]
}